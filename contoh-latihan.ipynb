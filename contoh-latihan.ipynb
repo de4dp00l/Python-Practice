{
 "cells": [
  {
   "cell_type": "markdown",
   "metadata": {},
   "source": [
    "### Mengambil Kata Terpanjang Pada Kata Pertama Dalam Kalimat\n",
    "Diberikan 3 kalimat, yaitu:\n",
    "\n",
    "* Tanah air Budi\n",
    "* Ari membeli sepatu\n",
    "* Kerajaan Mataram\n",
    "\n",
    "Output yang diharapkan adalah ``` Kerajaan ``` karena kata pertama tersebut yang paling panjang diantara 3 kata pertama lainnya."
   ]
  },
  {
   "cell_type": "code",
   "execution_count": 2,
   "metadata": {},
   "outputs": [
    {
     "name": "stdout",
     "output_type": "stream",
     "text": [
      "['Tanah air budi', 'Ari membeli sepatu', 'Kerajaan mahakam']\n",
      "Kerajaan\n"
     ]
    }
   ],
   "source": [
    "def get_longest_word(values):\n",
    "    first_word = [z.split()[0] for z in values]\n",
    "    longest_word = max(first_word, key=len)\n",
    "    return longest_word\n",
    "\n",
    "list_kalimat = []\n",
    "jumlah = int(input(\"Mau input berapa kalimat? \"))\n",
    "\n",
    "for i in range(jumlah):\n",
    "    kalimat = input(\"Masukan kalimat: \")\n",
    "    list_kalimat.append(kalimat)\n",
    "\n",
    "longest_first_word = get_longest_word(list_kalimat)\n",
    "print(list_kalimat)\n",
    "print(longest_first_word)"
   ]
  },
  {
   "cell_type": "markdown",
   "metadata": {},
   "source": [
    "### Mendapatkan Angka Total Ganjil\n",
    "Diberikan sebuah array yang berisikan angka-angka, buatlah program untuk menampillkan angka dengan total kemunculannya ganjil\n",
    "\n",
    ">Contoh input: [1, 4, 3, 2, 4, 1, 3, 1, 2, 2]\n",
    "<br>Contoh output: ```[1, 2]```\n",
    "\n",
    "\n",
    "Explanation:\n",
    "karena angka 1 dan 2 total kemunculannya ganjil\n",
    "sedangkan angka 3 dan 4 total kemunculannya genap"
   ]
  },
  {
   "cell_type": "code",
   "execution_count": 4,
   "metadata": {},
   "outputs": [
    {
     "name": "stdout",
     "output_type": "stream",
     "text": [
      "[1, 4, 3, 2, 4, 1, 3, 1, 2, 2]\n",
      "[1, 2]\n"
     ]
    }
   ],
   "source": [
    "def get_odd_total(values):\n",
    "    unique = []\n",
    "    [unique.append(i) for i in values if i not in unique]\n",
    "    results = [y for y in unique if values.count(y) % 2 != 0]\n",
    "    return results\n",
    "\n",
    "lists = [1, 4, 3, 2, 4, 1, 3, 1, 2, 2]\n",
    "results = get_odd_total(lists)\n",
    "print(lists)\n",
    "print(results)"
   ]
  },
  {
   "cell_type": "markdown",
   "metadata": {},
   "source": [
    "### Meeting List\n",
    "Travis has invited some friends. His list is:\n",
    "\n",
    ">s = \"Fred:Corwill;Wilfred:Corwill;Barney:Tornbull;Betty:Tornbull;Bjon:Tornbull;Raphael:Corwill;Alfred:Corwill\";\n",
    "\n",
    "Could you make a program that\n",
    "* Makes this string uppercase\n",
    "* Gives it sorted in alphabetical order by last name.\n",
    "\n",
    "When the last names are the same, sort them by first name. Last name and first name of a guest come in the result between parentheses separated by a comma.\n",
    "So the result of function meeting(s) will be:\n",
    "\n",
    ">(CORWILL, ALFRED)(CORWILL, FRED)(CORWILL, RAPHAEL)(CORWILL, WILFRED)(TORNBULL, BARNEY)(TORNBULL, BETTY)(TORNBULL, BJON)\n",
    "\n",
    "\n",
    "It can happen that in two distinct families with the same family name two people have the same first name too."
   ]
  },
  {
   "cell_type": "code",
   "execution_count": 166,
   "metadata": {},
   "outputs": [
    {
     "name": "stdout",
     "output_type": "stream",
     "text": [
      "(ARNO, ANN)(BELL, JOHN)(CORNWELL, ALEX)(DORNY, ABBA)(KERN, LEWIS)(KORN, ALEX)(META, GRACE)(SCHWARZ, VICTORIA)(STAN, MADISON)(STAN, MEGAN)(WAHL, ALEXIS)\n"
     ]
    }
   ],
   "source": [
    "def meeting(s):\n",
    "    make_list = s.upper().split(';')\n",
    "    make_list2 = [x.split(':') for x in make_list]\n",
    "    sorting = sorted(make_list2, key= lambda x: (x[1], x[0]))\n",
    "    formated_results = [f'({i[1]}, {i[0]})' for i in sorting]\n",
    "    return ''.Join(formated_results)\n",
    "\n",
    "s = \"Alexis:Wahl;John:Bell;Victoria:Schwarz;Abba:Dorny;Grace:Meta;Ann:Arno;Madison:STAN;Alex:Cornwell;Lewis:Kern;Megan:Stan;Alex:Korn\"\n",
    "hasil = meeting(s)\n",
    "print(hasil)"
   ]
  },
  {
   "cell_type": "markdown",
   "metadata": {},
   "source": [
    "### Palindrome Dengan Mengambil Huruf Saja Pada Suatu Kalimat\n",
    "Diberikan sebuah string, yang berisikan angka, huruf, dan juga karakter spesial.\n",
    "Carilah apakah string tersebut adalah palindrome dengan mengambil hurufnya saja dan tanpa memperhatikan besar dan kecilnya\n",
    "\n",
    ">Contoh Input = \"Ma$dam, @.in 3Ede*n, 4I'm-Ada#m\" <br>Contoh Output = ```True```\n",
    "\n",
    "kenapa??\n",
    "\n",
    "karena jika kita mengambil hurufnya saja dan tanpa memperhatikan besar dan kecilnya huruf,\n",
    "maka string diatas akan menjadi, madaminedenimadam, jika kita balik maka akan menghasilkan output yang sama, maka kita akan return True"
   ]
  },
  {
   "cell_type": "code",
   "execution_count": 23,
   "metadata": {},
   "outputs": [
    {
     "name": "stdout",
     "output_type": "stream",
     "text": [
      "True\n"
     ]
    }
   ],
   "source": [
    "import re\n",
    "\n",
    "#Tanpa regex\n",
    "def palindrome_only_word(values):\n",
    "    values = list(values)\n",
    "    lists = []\n",
    "    [lists.append(i) for i in values if i.isalpha()]\n",
    "    cleanup = ''.join(lists).lower()\n",
    "    if cleanup == cleanup[::-1]:\n",
    "        return True\n",
    "    else:\n",
    "        return False\n",
    "\n",
    "#Dengan regex\n",
    "def palindrome_only_word_regex(values):\n",
    "    values = re.findall(\"[a-zA-Z]+\", values)\n",
    "    cleanup = ''.join(values).lower()\n",
    "    if cleanup == cleanup[::-1]:\n",
    "        return True\n",
    "    else:\n",
    "        return False\n",
    "\n",
    "inputs = \"Ma$dam, @.in 3Ede*n, 4I'm-Ada#m\"\n",
    "results = palindrome_only_word(inputs)\n",
    "print(results)"
   ]
  },
  {
   "cell_type": "markdown",
   "metadata": {},
   "source": [
    "### FizzBuzz\n",
    "Write a short program that prints each number from 1 to 100 on a new line, with conditions:\n",
    "1. For each multiple of 3, print ```\"Fizz\"``` instead of the number\n",
    "2. For each multiple of 5, print ```\"Buzz\"``` instead of the number \n",
    "3. For numbers which are multiples of both 3 and 5, print ```\"FizzBuzz\"``` instead of the number\n",
    "\n",
    "Write a solution (or reduce an existing one) so it has as few characters as possible."
   ]
  },
  {
   "cell_type": "code",
   "execution_count": 6,
   "metadata": {},
   "outputs": [
    {
     "name": "stdout",
     "output_type": "stream",
     "text": [
      "1\n",
      "2\n",
      "Fizz\n",
      "4\n",
      "Buzz\n",
      "Fizz\n",
      "7\n",
      "8\n",
      "Fizz\n",
      "Buzz\n",
      "11\n",
      "Fizz\n",
      "13\n",
      "14\n",
      "FizzBuzz\n",
      "16\n",
      "17\n",
      "Fizz\n",
      "19\n",
      "Buzz\n",
      "Fizz\n",
      "22\n",
      "23\n",
      "Fizz\n",
      "Buzz\n",
      "26\n",
      "Fizz\n",
      "28\n",
      "29\n",
      "FizzBuzz\n",
      "31\n",
      "32\n",
      "Fizz\n",
      "34\n",
      "Buzz\n",
      "Fizz\n",
      "37\n",
      "38\n",
      "Fizz\n",
      "Buzz\n",
      "41\n",
      "Fizz\n",
      "43\n",
      "44\n",
      "FizzBuzz\n",
      "46\n",
      "47\n",
      "Fizz\n",
      "49\n",
      "Buzz\n",
      "Fizz\n",
      "52\n",
      "53\n",
      "Fizz\n",
      "Buzz\n",
      "56\n",
      "Fizz\n",
      "58\n",
      "59\n",
      "FizzBuzz\n",
      "61\n",
      "62\n",
      "Fizz\n",
      "64\n",
      "Buzz\n",
      "Fizz\n",
      "67\n",
      "68\n",
      "Fizz\n",
      "Buzz\n",
      "71\n",
      "Fizz\n",
      "73\n",
      "74\n",
      "FizzBuzz\n",
      "76\n",
      "77\n",
      "Fizz\n",
      "79\n",
      "Buzz\n",
      "Fizz\n",
      "82\n",
      "83\n",
      "Fizz\n",
      "Buzz\n",
      "86\n",
      "Fizz\n",
      "88\n",
      "89\n",
      "FizzBuzz\n",
      "91\n",
      "92\n",
      "Fizz\n",
      "94\n",
      "Buzz\n",
      "Fizz\n",
      "97\n",
      "98\n",
      "Fizz\n",
      "Buzz\n"
     ]
    }
   ],
   "source": [
    "banyak = int(input(\"Masukan banyaknya output: \"))\n",
    "\n",
    "for i in range(1, banyak + 1):\n",
    "    if (i % 15 == 0):\n",
    "        print('FizzBuzz')\n",
    "    elif (i % 5 == 0):\n",
    "        print('Buzz')\n",
    "    elif (i % 3 == 0):\n",
    "        print('Fizz')\n",
    "    else:\n",
    "        print(i)"
   ]
  },
  {
   "cell_type": "markdown",
   "metadata": {},
   "source": [
    "### Mengeluarkan Huruf Vowel Dalam Suatu Kalimat\n",
    "Buatkan sebuah program untuk mengeluarkan huruf *vowel* / vokal pada suatu kalimat yang diberikan.\n",
    "\n",
    ">Contoh Input: Ari Membeli Sebuah Sepeda Baru <br> Contoh Output: ```ai eei eua eea au```"
   ]
  },
  {
   "cell_type": "code",
   "execution_count": 33,
   "metadata": {},
   "outputs": [
    {
     "name": "stdout",
     "output_type": "stream",
     "text": [
      "Kalimat yang diinput: Ari Membeli Sebuah Sepeda Baru\n",
      "Huruf vowel yang ada pada kalimat: ai eei eua eea au\n"
     ]
    }
   ],
   "source": [
    "def take_vowel(values):\n",
    "    vowels = []\n",
    "    first, *mid, last = values.split()\n",
    "    vowel_letters = ['a','i','u','e','o']\n",
    "    for i in [first, *mid, last]:\n",
    "        word_vowels = ''.join([char.lower() for char in i if char.lower() in vowel_letters])\n",
    "        vowels.append(word_vowels)\n",
    "    return ' '.join(vowels)\n",
    "\n",
    "inputs = input(\"Masukan Kalimat: \")\n",
    "results = take_vowel(inputs)\n",
    "print(f'Kalimat yang diinput: {inputs}')\n",
    "print(f'Huruf vowel yang ada pada kalimat: {results}')"
   ]
  },
  {
   "cell_type": "code",
   "execution_count": 38,
   "metadata": {},
   "outputs": [
    {
     "name": "stdout",
     "output_type": "stream",
     "text": [
      "['Open', 'Open', 'Senior', 'Open', 'Open', 'Senior']\n"
     ]
    }
   ],
   "source": [
    "senior_open = []\n",
    "lists = [[18, 20], [45, 2], [61, 12], [37, 6], [21, 21], [78, 9]]\n",
    "for i in lists:\n",
    "    if i[0] >= 55 and i[1] > 7:\n",
    "        results = \"Senior\"\n",
    "        senior_open.append(results)\n",
    "    else:\n",
    "        results = \"Open\"\n",
    "        senior_open.append(results)\n",
    "\n",
    "print(senior_open)"
   ]
  },
  {
   "cell_type": "markdown",
   "metadata": {},
   "source": [
    "### Categorize New Member\n",
    "\n",
    "The Western Suburbs Croquet Club has two categories of membership, Senior and Open. They would like your help with an application form that will tell prospective members which category they will be placed.\n",
    "\n",
    "To be a senior, a member must be ```at least 55 years old and have a handicap greater than 7```. In this croquet club, handicaps range from ````-2 to +26; the better the player the lower the handicap````.\n",
    "\n",
    "#### Input\n",
    "Input will consist of a list of pairs. Each pair contains information for a single potential member. Information consists of an integer for the person's age and an integer for the person's handicap.\n",
    "Output\n",
    "\n",
    "#### Output\n",
    "will consist of a list of string values (in Haskell and C: Open or Senior) stating whether the respective member is to be placed in the senior or open category.\n",
    "\n",
    "#### Example\n",
    ">input =  [[18, 20], [45, 2], [61, 12], [37, 6], [21, 21], [78, 9]]<br>output = ```[\"Open\", \"Open\", \"Senior\", \"Open\", \"Open\", \"Senior\"]```"
   ]
  },
  {
   "cell_type": "code",
   "execution_count": 39,
   "metadata": {},
   "outputs": [
    {
     "name": "stdout",
     "output_type": "stream",
     "text": [
      "['Open', 'Open', 'Senior', 'Open', 'Open', 'Senior']\n"
     ]
    }
   ],
   "source": [
    "def open_or_senior(data):\n",
    "    open_senior = []\n",
    "    for i in data:\n",
    "        if i[0] >= 55 and i[1] > 7:\n",
    "            open_senior.append(\"Senior\")\n",
    "        else:\n",
    "            open_senior.append(\"Open\")\n",
    "    return open_senior\n",
    "\n",
    "lists = [[18, 20], [45, 2], [61, 12], [37, 6], [21, 21], [78, 9]]\n",
    "results = open_or_senior(lists)\n",
    "print(results)"
   ]
  },
  {
   "cell_type": "markdown",
   "metadata": {},
   "source": [
    "### Friend or Foe?\n",
    "\n",
    "Make a program that filters a list of strings and returns a list with only your friends name in it.\\\n",
    "If a name has exactly 4 letters in it, you can be sure that it has to be a friend of yours! Otherwise, you can be sure he's not...\n",
    "\n",
    "Example: Input = [\"Ryan\", \"Kieran\", \"Jason\", \"Yous\"], Output = ```[\"Ryan\", \"Yous\"]```\n",
    "\n",
    "> friend [\"Ryan\", \"Kieran\", \"Mark\"] *shouldBe* ```[\"Ryan\", \"Mark\"]```\n",
    "\n",
    "<br>```Note: keep the original order of the names in the output.```"
   ]
  },
  {
   "cell_type": "code",
   "execution_count": 41,
   "metadata": {},
   "outputs": [
    {
     "name": "stdout",
     "output_type": "stream",
     "text": [
      "['Ryan', 'Yous']\n"
     ]
    }
   ],
   "source": [
    "def friend(x):\n",
    "    return [i for i in x if len(i) == 4]\n",
    "\n",
    "list_friends = [\"Ryan\", \"Kieran\", \"Jason\", \"Yous\"]\n",
    "results = friend(list_friends)\n",
    "\n",
    "print(results)"
   ]
  },
  {
   "cell_type": "markdown",
   "metadata": {},
   "source": [
    "#### Menghitung Sudah Berapa Hari Dari Tanggal Yang Ditentukan"
   ]
  },
  {
   "cell_type": "code",
   "execution_count": 7,
   "metadata": {},
   "outputs": [
    {
     "name": "stdout",
     "output_type": "stream",
     "text": [
      "Total days from 2024-02-01 until now is: 6 days\n"
     ]
    }
   ],
   "source": [
    "from datetime import datetime\n",
    "\n",
    "dayss = datetime(2024, 2, 1)\n",
    "\n",
    "print(f'Total days from {dayss.strftime(\"%Y-%m-%d\")} until now is: {(datetime.now() - dayss).days} days')"
   ]
  }
 ],
 "metadata": {
  "kernelspec": {
   "display_name": "Python 3",
   "language": "python",
   "name": "python3"
  },
  "language_info": {
   "codemirror_mode": {
    "name": "ipython",
    "version": 3
   },
   "file_extension": ".py",
   "mimetype": "text/x-python",
   "name": "python",
   "nbconvert_exporter": "python",
   "pygments_lexer": "ipython3",
   "version": "3.10.4"
  }
 },
 "nbformat": 4,
 "nbformat_minor": 2
}
